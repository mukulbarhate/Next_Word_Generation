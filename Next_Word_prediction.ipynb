{
 "cells": [
  {
   "cell_type": "code",
   "execution_count": null,
   "id": "adbab309-1054-4dbc-9145-964aa920fd05",
   "metadata": {},
   "outputs": [
    {
     "name": "stderr",
     "output_type": "stream",
     "text": [
      "[nltk_data] Downloading package punkt to /home/mukul-\n",
      "[nltk_data]     barhate/nltk_data...\n",
      "[nltk_data]   Unzipping tokenizers/punkt.zip.\n"
     ]
    },
    {
     "name": "stdout",
     "output_type": "stream",
     "text": [
      "Epoch 1/2\n"
     ]
    },
    {
     "name": "stderr",
     "output_type": "stream",
     "text": [
      "/home/mukul-barhate/myenv/lib/python3.12/site-packages/keras/src/layers/core/embedding.py:90: UserWarning: Argument `input_length` is deprecated. Just remove it.\n",
      "  warnings.warn(\n"
     ]
    },
    {
     "name": "stdout",
     "output_type": "stream",
     "text": [
      "\u001b[1m31/60\u001b[0m \u001b[32m━━━━━━━━━━\u001b[0m\u001b[37m━━━━━━━━━━\u001b[0m \u001b[1m1:30\u001b[0m 3s/step - accuracy: 0.0345 - loss: 6.3087"
     ]
    }
   ],
   "source": [
    "import nltk\n",
    "from keras.src.utils import pad_sequences\n",
    "from tensorflow.keras.preprocessing.text import Tokenizer\n",
    "from tensorflow.keras.preprocessing import *\n",
    "from tensorflow.keras.models import Sequential\n",
    "from tensorflow.keras.layers import Embedding, LSTM, Dense\n",
    "from tensorflow.keras.optimizers import Adam\n",
    "import numpy as np\n",
    "# import tkinter as tk\n",
    "# from tkinter import StringVar\n",
    "import tensorflow as tf\n",
    "import keras\n",
    "from nltk.tokenize import word_tokenize\n",
    "\n",
    "nltk.download('punkt')\n",
    "# Load your corpus\n",
    "with open(\"/home/mukul-barhate/Machine_learning/pizza.txt\", 'r') as file:\n",
    "    text = file.read()\n",
    "corpus =text\n",
    "# Tokenize the corpusa\n",
    "tokens = word_tokenize(corpus.lower())\n",
    "\n",
    "# Prepare sequences\n",
    "tokenizer = Tokenizer()\n",
    "tokenizer.fit_on_texts([corpus])\n",
    "total_words = len(tokenizer.word_index) + 1\n",
    "\n",
    "input_sequences = []\n",
    "for i in range(1, len(tokens)):\n",
    "    n_gram_sequence = tokens[:i+1]\n",
    "    encoded_sequence = tokenizer.texts_to_sequences([' '.join(n_gram_sequence)])[0]\n",
    "    input_sequences.append(encoded_sequence)\n",
    "\n",
    "# Pad sequences and create predictors and label\n",
    "max_sequence_len = max([len(x) for x in input_sequences])\n",
    "input_sequences = np.array(pad_sequences(input_sequences, maxlen=max_sequence_len, padding='pre'))\n",
    "\n",
    "X = input_sequences[:, :-1]\n",
    "y = input_sequences[:, -1]\n",
    "y = keras.utils.to_categorical(y, num_classes=total_words)\n",
    "\n",
    "# Define the model\n",
    "model = Sequential()\n",
    "model.add(Embedding(total_words, 100, input_length=max_sequence_len-1))\n",
    "model.add(LSTM(150, return_sequences=True))\n",
    "model.add(LSTM(100))\n",
    "model.add(Dense(total_words, activation='softmax'))\n",
    "\n",
    "adam = Adam(learning_rate=0.01)\n",
    "model.compile(loss='categorical_crossentropy', optimizer=adam, metrics=['accuracy'])\n",
    "\n",
    "# Train the model\n",
    "model.fit(X, y, epochs=2, verbose=1)\n",
    "\n",
    "# Define the prediction function\n",
    "def predict_next_words(model, tokenizer, text, num_words=3):\n",
    "    for _ in range(num_words):\n",
    "        sequence = tokenizer.texts_to_sequences([text])[0]\n",
    "        sequence = pad_sequences([sequence], maxlen=max_sequence_len-1, padding='pre')\n",
    "        predicted = np.argmax(model.predict(sequence), axis=-1)\n",
    "        output_word = \"\"\n",
    "        for word, index in tokenizer.word_index.items():\n",
    "            if index == predicted:\n",
    "                output_word = word\n",
    "                break\n",
    "        text += \" \" + output_word\n",
    "    return text\n",
    "\n",
    "# Tkinter GUI\n",
    "# def on_button_click():\n",
    "#     user_input = entry.get()\n",
    "#     prediction = predict_next_words(model, tokenizer, user_input)\n",
    "#     prediction_var.set(f\"Predicted next words: {prediction}\")\n",
    "\n",
    "# # Initialize the main window\n",
    "# root = tk.Tk()\n",
    "# root.title(\"Next Word Predictor\")\n",
    "\n",
    "# # Create GUI elements\n",
    "# label = tk.Label(root, text=\"Enter your text:\")\n",
    "# label.pack()\n",
    "\n",
    "# entry = tk.Entry(root, width=50)\n",
    "# entry.pack()\n",
    "\n",
    "# button = tk.Button(root, text=\"Predict Next Words\", command=on_button_click)\n",
    "# button.pack()\n",
    "\n",
    "# prediction_var = StringVar()\n",
    "# prediction_label = tk.Label(root, textvariable=prediction_var)\n",
    "# prediction_label.pack()\n",
    "\n",
    "# # Start the Tkinter event loop\n",
    "# root.mainloop()"
   ]
  },
  {
   "cell_type": "code",
   "execution_count": null,
   "id": "f62b7dd7-bd42-4960-8083-d7fac91d467f",
   "metadata": {},
   "outputs": [],
   "source": []
  }
 ],
 "metadata": {
  "kernelspec": {
   "display_name": "Python 3 (ipykernel)",
   "language": "python",
   "name": "python3"
  },
  "language_info": {
   "codemirror_mode": {
    "name": "ipython",
    "version": 3
   },
   "file_extension": ".py",
   "mimetype": "text/x-python",
   "name": "python",
   "nbconvert_exporter": "python",
   "pygments_lexer": "ipython3",
   "version": "3.12.3"
  }
 },
 "nbformat": 4,
 "nbformat_minor": 5
}
